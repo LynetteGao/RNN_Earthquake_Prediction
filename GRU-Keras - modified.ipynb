{
 "cells": [
  {
   "cell_type": "code",
   "execution_count": 1,
   "metadata": {
    "_cell_guid": "b1076dfc-b9ad-4769-8c92-a6c4dae69d19",
    "_uuid": "8f2839f25d086af736a60e9eeb907d3b93b6e0e5"
   },
   "outputs": [],
   "source": [
    "# This Python 3 environment comes with many helpful analytics libraries installed\n",
    "# It is defined by the kaggle/python docker image: https://github.com/kaggle/docker-python\n",
    "# For example, here's several helpful packages to load in \n",
    "\n",
    "import numpy as np # linear algebra\n",
    "import pandas as pd # data processing, CSV file I/O (e.g. pd.read_csv)\n",
    "\n",
    "# Input data files are available in the \"../input/\" directory.\n",
    "# For example, running this (by clicking run or pressing Shift+Enter) will list all files under the input directory\n",
    "\n",
    "import os\n",
    "for dirname, _, filenames in os.walk('/kaggle/input'):\n",
    "    for filename in filenames:\n",
    "        print(os.path.join(dirname, filename))\n",
    "\n",
    "# Any results you write to the current directory are saved as output."
   ]
  },
  {
   "cell_type": "code",
   "execution_count": 2,
   "metadata": {
    "_cell_guid": "79c7e3d0-c299-4dcb-8224-4455121ee9b0",
    "_uuid": "d629ff2d2480ee46fbb7e2d37f6b5fab8052498a",
    "scrolled": true
   },
   "outputs": [
    {
     "name": "stderr",
     "output_type": "stream",
     "text": [
      "Using TensorFlow backend.\n",
      "/Users/lynette/opt/anaconda3/lib/python3.7/site-packages/tensorflow/python/framework/dtypes.py:526: FutureWarning: Passing (type, 1) or '1type' as a synonym of type is deprecated; in a future version of numpy, it will be understood as (type, (1,)) / '(1,)type'.\n",
      "  _np_qint8 = np.dtype([(\"qint8\", np.int8, 1)])\n",
      "/Users/lynette/opt/anaconda3/lib/python3.7/site-packages/tensorflow/python/framework/dtypes.py:527: FutureWarning: Passing (type, 1) or '1type' as a synonym of type is deprecated; in a future version of numpy, it will be understood as (type, (1,)) / '(1,)type'.\n",
      "  _np_quint8 = np.dtype([(\"quint8\", np.uint8, 1)])\n",
      "/Users/lynette/opt/anaconda3/lib/python3.7/site-packages/tensorflow/python/framework/dtypes.py:528: FutureWarning: Passing (type, 1) or '1type' as a synonym of type is deprecated; in a future version of numpy, it will be understood as (type, (1,)) / '(1,)type'.\n",
      "  _np_qint16 = np.dtype([(\"qint16\", np.int16, 1)])\n",
      "/Users/lynette/opt/anaconda3/lib/python3.7/site-packages/tensorflow/python/framework/dtypes.py:529: FutureWarning: Passing (type, 1) or '1type' as a synonym of type is deprecated; in a future version of numpy, it will be understood as (type, (1,)) / '(1,)type'.\n",
      "  _np_quint16 = np.dtype([(\"quint16\", np.uint16, 1)])\n",
      "/Users/lynette/opt/anaconda3/lib/python3.7/site-packages/tensorflow/python/framework/dtypes.py:530: FutureWarning: Passing (type, 1) or '1type' as a synonym of type is deprecated; in a future version of numpy, it will be understood as (type, (1,)) / '(1,)type'.\n",
      "  _np_qint32 = np.dtype([(\"qint32\", np.int32, 1)])\n",
      "/Users/lynette/opt/anaconda3/lib/python3.7/site-packages/tensorflow/python/framework/dtypes.py:535: FutureWarning: Passing (type, 1) or '1type' as a synonym of type is deprecated; in a future version of numpy, it will be understood as (type, (1,)) / '(1,)type'.\n",
      "  np_resource = np.dtype([(\"resource\", np.ubyte, 1)])\n"
     ]
    }
   ],
   "source": [
    "import keras"
   ]
  },
  {
   "cell_type": "code",
   "execution_count": 4,
   "metadata": {},
   "outputs": [],
   "source": [
    "train = pd.read_csv('../data/train.csv', dtype={'acoustic_data': np.int16, 'time_to_failure': np.float32})"
   ]
  },
  {
   "cell_type": "code",
   "execution_count": 5,
   "metadata": {},
   "outputs": [
    {
     "data": {
      "text/html": [
       "<div>\n",
       "<style scoped>\n",
       "    .dataframe tbody tr th:only-of-type {\n",
       "        vertical-align: middle;\n",
       "    }\n",
       "\n",
       "    .dataframe tbody tr th {\n",
       "        vertical-align: top;\n",
       "    }\n",
       "\n",
       "    .dataframe thead th {\n",
       "        text-align: right;\n",
       "    }\n",
       "</style>\n",
       "<table border=\"1\" class=\"dataframe\">\n",
       "  <thead>\n",
       "    <tr style=\"text-align: right;\">\n",
       "      <th></th>\n",
       "      <th>acoustic_data</th>\n",
       "      <th>time_to_failure</th>\n",
       "    </tr>\n",
       "  </thead>\n",
       "  <tbody>\n",
       "    <tr>\n",
       "      <td>0</td>\n",
       "      <td>12</td>\n",
       "      <td>1.4691</td>\n",
       "    </tr>\n",
       "    <tr>\n",
       "      <td>1</td>\n",
       "      <td>6</td>\n",
       "      <td>1.4691</td>\n",
       "    </tr>\n",
       "    <tr>\n",
       "      <td>2</td>\n",
       "      <td>8</td>\n",
       "      <td>1.4691</td>\n",
       "    </tr>\n",
       "    <tr>\n",
       "      <td>3</td>\n",
       "      <td>5</td>\n",
       "      <td>1.4691</td>\n",
       "    </tr>\n",
       "    <tr>\n",
       "      <td>4</td>\n",
       "      <td>8</td>\n",
       "      <td>1.4691</td>\n",
       "    </tr>\n",
       "    <tr>\n",
       "      <td>5</td>\n",
       "      <td>8</td>\n",
       "      <td>1.4691</td>\n",
       "    </tr>\n",
       "    <tr>\n",
       "      <td>6</td>\n",
       "      <td>9</td>\n",
       "      <td>1.4691</td>\n",
       "    </tr>\n",
       "    <tr>\n",
       "      <td>7</td>\n",
       "      <td>7</td>\n",
       "      <td>1.4691</td>\n",
       "    </tr>\n",
       "    <tr>\n",
       "      <td>8</td>\n",
       "      <td>-5</td>\n",
       "      <td>1.4691</td>\n",
       "    </tr>\n",
       "    <tr>\n",
       "      <td>9</td>\n",
       "      <td>3</td>\n",
       "      <td>1.4691</td>\n",
       "    </tr>\n",
       "    <tr>\n",
       "      <td>10</td>\n",
       "      <td>5</td>\n",
       "      <td>1.4691</td>\n",
       "    </tr>\n",
       "    <tr>\n",
       "      <td>11</td>\n",
       "      <td>2</td>\n",
       "      <td>1.4691</td>\n",
       "    </tr>\n",
       "    <tr>\n",
       "      <td>12</td>\n",
       "      <td>2</td>\n",
       "      <td>1.4691</td>\n",
       "    </tr>\n",
       "    <tr>\n",
       "      <td>13</td>\n",
       "      <td>3</td>\n",
       "      <td>1.4691</td>\n",
       "    </tr>\n",
       "    <tr>\n",
       "      <td>14</td>\n",
       "      <td>-1</td>\n",
       "      <td>1.4691</td>\n",
       "    </tr>\n",
       "    <tr>\n",
       "      <td>15</td>\n",
       "      <td>5</td>\n",
       "      <td>1.4691</td>\n",
       "    </tr>\n",
       "    <tr>\n",
       "      <td>16</td>\n",
       "      <td>6</td>\n",
       "      <td>1.4691</td>\n",
       "    </tr>\n",
       "    <tr>\n",
       "      <td>17</td>\n",
       "      <td>4</td>\n",
       "      <td>1.4691</td>\n",
       "    </tr>\n",
       "    <tr>\n",
       "      <td>18</td>\n",
       "      <td>3</td>\n",
       "      <td>1.4691</td>\n",
       "    </tr>\n",
       "    <tr>\n",
       "      <td>19</td>\n",
       "      <td>5</td>\n",
       "      <td>1.4691</td>\n",
       "    </tr>\n",
       "  </tbody>\n",
       "</table>\n",
       "</div>"
      ],
      "text/plain": [
       "    acoustic_data  time_to_failure\n",
       "0              12           1.4691\n",
       "1               6           1.4691\n",
       "2               8           1.4691\n",
       "3               5           1.4691\n",
       "4               8           1.4691\n",
       "5               8           1.4691\n",
       "6               9           1.4691\n",
       "7               7           1.4691\n",
       "8              -5           1.4691\n",
       "9               3           1.4691\n",
       "10              5           1.4691\n",
       "11              2           1.4691\n",
       "12              2           1.4691\n",
       "13              3           1.4691\n",
       "14             -1           1.4691\n",
       "15              5           1.4691\n",
       "16              6           1.4691\n",
       "17              4           1.4691\n",
       "18              3           1.4691\n",
       "19              5           1.4691"
      ]
     },
     "execution_count": 5,
     "metadata": {},
     "output_type": "execute_result"
    }
   ],
   "source": [
    "train_df = train\n",
    "train_df.head(20)\n"
   ]
  },
  {
   "cell_type": "code",
   "execution_count": 49,
   "metadata": {},
   "outputs": [
    {
     "name": "stderr",
     "output_type": "stream",
     "text": [
      "C:\\Users\\Patron\\anaconda3\\lib\\site-packages\\IPython\\core\\pylabtools.py:132: UserWarning: Creating legend with loc=\"best\" can be slow with large amounts of data.\n",
      "  fig.canvas.print_figure(bytes_io, **kw)\n"
     ]
    },
    {
     "data": {
      "image/png": "[encoded data removed]",
      "text/plain": [
       "<Figure size 1152x576 with 2 Axes>"
      ]
     },
     "metadata": {
      "needs_background": "light"
     },
     "output_type": "display_data"
    }
   ],
   "source": [
    "train_acoustic_data_small = train['acoustic_data'].values[::50]\n",
    "train_time_to_failure_small = train['time_to_failure'].values[::50]\n",
    "\n",
    "fig, ax1 = plt.subplots(figsize=(16, 8))\n",
    "plt.title(\"Trends of seismic signal and time_to_failure\")\n",
    "plt.plot(train_acoustic_data_small, color='b')\n",
    "ax1.set_ylabel('seismic signal', color='b')\n",
    "plt.legend(['seismic signal'])\n",
    "ax2 = ax1.twinx()\n",
    "plt.plot(train_time_to_failure_small, color='g')\n",
    "ax2.set_ylabel('time_to_failure', color='g')\n",
    "plt.legend(['time_to_failure'], loc=(0.875, 0.9))\n",
    "plt.grid(False)\n",
    "\n",
    "del train_acoustic_data_small\n",
    "del train_time_to_failure_small"
   ]
  },
  {
   "cell_type": "code",
   "execution_count": 50,
   "metadata": {},
   "outputs": [
    {
     "name": "stderr",
     "output_type": "stream",
     "text": [
      "C:\\Users\\Patron\\anaconda3\\lib\\site-packages\\IPython\\core\\pylabtools.py:132: UserWarning: Creating legend with loc=\"best\" can be slow with large amounts of data.\n",
      "  fig.canvas.print_figure(bytes_io, **kw)\n"
     ]
    },
    {
     "data": {
      "image/png": "[encoded data removed]",
      "text/plain": [
       "<Figure size 1152x576 with 2 Axes>"
      ]
     },
     "metadata": {
      "needs_background": "light"
     },
     "output_type": "display_data"
    }
   ],
   "source": [
    "fig, ax1 = plt.subplots(figsize=(16, 8))\n",
    "plt.title(\"Trends of seismic signal and time_to_failure\")\n",
    "plt.plot(train['acoustic_data'].values[:12582910], color='b')\n",
    "ax1.set_ylabel('seismic signal', color='b')\n",
    "plt.legend(['seismic signal'])\n",
    "ax2 = ax1.twinx()\n",
    "plt.plot(train['time_to_failure'].values[:12582910], color='g')\n",
    "ax2.set_ylabel('time_to_failure', color='g')\n",
    "plt.legend(['time_to_failure'], loc=(0.875, 0.9))\n",
    "plt.grid(False)"
   ]
  },
  {
   "cell_type": "code",
   "execution_count": null,
   "metadata": {},
   "outputs": [],
   "source": []
  },
  {
   "cell_type": "code",
   "execution_count": 6,
   "metadata": {},
   "outputs": [],
   "source": [
    "chunk_size = 150000\n",
    "\n",
    "chunks = int(np.floor(train_df.shape[0]/chunk_size))\n",
    "\n",
    "X_data = pd.DataFrame(index=range(chunks), dtype=np.float32, columns=['min','max','std', 'avg', 'sum', 'median', 'mean_diff', \n",
    "                                                                       'q05', 'q25', 'q75', 'q95'])\n",
    "y_data = pd.DataFrame(index=range(chunks), dtype=np.float32, columns=['ttf'])\n",
    "\n",
    "def create_features(data_chunk, X_df, chunk_no, col_name='acoustic_data'):\n",
    "    x = data_chunk[col_name]\n",
    "    X_df.loc[chunk_no, 'min'] = x.min()\n",
    "    X_df.loc[chunk_no, 'max'] = x.max()\n",
    "    X_df.loc[chunk_no, 'std'] = x.std()\n",
    "    X_df.loc[chunk_no, 'avg'] = x.mean()\n",
    "    X_df.loc[chunk_no, 'sum'] = x.sum()\n",
    "    X_df.loc[chunk_no, 'median'] = x.median()\n",
    "    X_df.loc[chunk_no, 'mean_diff'] = np.mean(np.diff(x))\n",
    "    X_df.loc[chunk_no, 'q05'] = np.quantile(x, 0.05)\n",
    "    X_df.loc[chunk_no, 'q25'] = np.quantile(x, 0.25)\n",
    "    X_df.loc[chunk_no, 'q75'] = np.quantile(x, 0.75)\n",
    "    X_df.loc[chunk_no, 'q95'] = np.quantile(x, 0.95)\n",
    "    return X_df"
   ]
  },
  {
   "cell_type": "code",
   "execution_count": 7,
   "metadata": {},
   "outputs": [
    {
     "name": "stderr",
     "output_type": "stream",
     "text": [
      "100%|██████████| 4194/4194 [00:37<00:00, 113.24it/s]\n"
     ]
    }
   ],
   "source": [
    "from tqdm import tqdm\n",
    "for chunk_no in tqdm(range(chunks)):\n",
    "    data_chunk = train_df.iloc[chunk_no*chunk_size:chunk_no*chunk_size+chunk_size]\n",
    "    X_data = create_features(data_chunk, X_data, chunk_no)\n",
    "    y = data_chunk['time_to_failure'].values[-1]\n",
    "    y_data.loc[chunk_no, 'ttf'] = y"
   ]
  },
  {
   "cell_type": "code",
   "execution_count": 8,
   "metadata": {},
   "outputs": [
    {
     "name": "stdout",
     "output_type": "stream",
     "text": [
      "(4194, 11)\n",
      "(4194, 1)\n",
      "11\n"
     ]
    },
    {
     "data": {
      "text/html": [
       "<div>\n",
       "<style scoped>\n",
       "    .dataframe tbody tr th:only-of-type {\n",
       "        vertical-align: middle;\n",
       "    }\n",
       "\n",
       "    .dataframe tbody tr th {\n",
       "        vertical-align: top;\n",
       "    }\n",
       "\n",
       "    .dataframe thead th {\n",
       "        text-align: right;\n",
       "    }\n",
       "</style>\n",
       "<table border=\"1\" class=\"dataframe\">\n",
       "  <thead>\n",
       "    <tr style=\"text-align: right;\">\n",
       "      <th></th>\n",
       "      <th>min</th>\n",
       "      <th>max</th>\n",
       "      <th>std</th>\n",
       "      <th>avg</th>\n",
       "      <th>sum</th>\n",
       "      <th>median</th>\n",
       "      <th>mean_diff</th>\n",
       "      <th>q05</th>\n",
       "      <th>q25</th>\n",
       "      <th>q75</th>\n",
       "      <th>q95</th>\n",
       "    </tr>\n",
       "  </thead>\n",
       "  <tbody>\n",
       "    <tr>\n",
       "      <th>0</th>\n",
       "      <td>-98.0</td>\n",
       "      <td>104.0</td>\n",
       "      <td>5.101106</td>\n",
       "      <td>4.884113</td>\n",
       "      <td>732617.0</td>\n",
       "      <td>5.0</td>\n",
       "      <td>-0.000080</td>\n",
       "      <td>-2.0</td>\n",
       "      <td>3.0</td>\n",
       "      <td>7.0</td>\n",
       "      <td>11.0</td>\n",
       "    </tr>\n",
       "    <tr>\n",
       "      <th>1</th>\n",
       "      <td>-154.0</td>\n",
       "      <td>181.0</td>\n",
       "      <td>6.588824</td>\n",
       "      <td>4.725767</td>\n",
       "      <td>708865.0</td>\n",
       "      <td>5.0</td>\n",
       "      <td>0.000000</td>\n",
       "      <td>-2.0</td>\n",
       "      <td>2.0</td>\n",
       "      <td>7.0</td>\n",
       "      <td>12.0</td>\n",
       "    </tr>\n",
       "    <tr>\n",
       "      <th>2</th>\n",
       "      <td>-106.0</td>\n",
       "      <td>140.0</td>\n",
       "      <td>6.967397</td>\n",
       "      <td>4.906394</td>\n",
       "      <td>735959.0</td>\n",
       "      <td>5.0</td>\n",
       "      <td>-0.000013</td>\n",
       "      <td>-3.0</td>\n",
       "      <td>2.0</td>\n",
       "      <td>7.0</td>\n",
       "      <td>13.0</td>\n",
       "    </tr>\n",
       "    <tr>\n",
       "      <th>3</th>\n",
       "      <td>-199.0</td>\n",
       "      <td>197.0</td>\n",
       "      <td>6.922305</td>\n",
       "      <td>4.902240</td>\n",
       "      <td>735336.0</td>\n",
       "      <td>5.0</td>\n",
       "      <td>0.000000</td>\n",
       "      <td>-2.0</td>\n",
       "      <td>2.0</td>\n",
       "      <td>7.0</td>\n",
       "      <td>12.0</td>\n",
       "    </tr>\n",
       "    <tr>\n",
       "      <th>4</th>\n",
       "      <td>-126.0</td>\n",
       "      <td>145.0</td>\n",
       "      <td>7.301110</td>\n",
       "      <td>4.908720</td>\n",
       "      <td>736308.0</td>\n",
       "      <td>5.0</td>\n",
       "      <td>-0.000007</td>\n",
       "      <td>-2.0</td>\n",
       "      <td>2.0</td>\n",
       "      <td>7.0</td>\n",
       "      <td>12.0</td>\n",
       "    </tr>\n",
       "  </tbody>\n",
       "</table>\n",
       "</div>"
      ],
      "text/plain": [
       "     min    max       std       avg       sum  median  mean_diff  q05  q25  \\\n",
       "0  -98.0  104.0  5.101106  4.884113  732617.0     5.0  -0.000080 -2.0  3.0   \n",
       "1 -154.0  181.0  6.588824  4.725767  708865.0     5.0   0.000000 -2.0  2.0   \n",
       "2 -106.0  140.0  6.967397  4.906394  735959.0     5.0  -0.000013 -3.0  2.0   \n",
       "3 -199.0  197.0  6.922305  4.902240  735336.0     5.0   0.000000 -2.0  2.0   \n",
       "4 -126.0  145.0  7.301110  4.908720  736308.0     5.0  -0.000007 -2.0  2.0   \n",
       "\n",
       "   q75   q95  \n",
       "0  7.0  11.0  \n",
       "1  7.0  12.0  \n",
       "2  7.0  13.0  \n",
       "3  7.0  12.0  \n",
       "4  7.0  12.0  "
      ]
     },
     "execution_count": 8,
     "metadata": {},
     "output_type": "execute_result"
    }
   ],
   "source": [
    "print(X_data.shape)\n",
    "print(y_data.shape)\n",
    "print(X_data.shape[1])\n",
    "X_data.head()\n"
   ]
  },
  {
   "cell_type": "code",
   "execution_count": 8,
   "metadata": {},
   "outputs": [
    {
     "data": {
      "text/plain": [
       "(3355, 11)"
      ]
     },
     "execution_count": 8,
     "metadata": {},
     "output_type": "execute_result"
    }
   ],
   "source": [
    "from sklearn.model_selection import train_test_split\n",
    "X_train, X_test, y_train, y_test = train_test_split(X_data.values, y_data.values, test_size=0.2)\n",
    "# X_test\n",
    "# X_data.values\n",
    "X_train.shape\n"
   ]
  },
  {
   "cell_type": "code",
   "execution_count": 14,
   "metadata": {},
   "outputs": [],
   "source": [
    "from keras.models import Sequential\n",
    "from keras.layers import Dense, Dropout, Flatten, LSTM, Bidirectional, GRU\n",
    "from keras.optimizers import adam\n",
    "from keras.callbacks import ModelCheckpoint\n",
    "from keras.layers.normalization import BatchNormalization\n",
    "\n",
    "\n",
    "#keras.layers.GRU(units, activation='tanh', recurrent_activation='sigmoid', use_bias=True, kernel_initializer='glorot_uniform', recurrent_initializer='orthogonal', bias_initializer='zeros', kernel_regularizer=None, recurrent_regularizer=None, bias_regularizer=None, activity_regularizer=None, kernel_constraint=None, recurrent_constraint=None, bias_constraint=None, dropout=0.0, recurrent_dropout=0.0, implementation=2, return_sequences=False, return_state=False, go_backwards=False, stateful=False, unroll=False, reset_after=False)\n",
    "\n",
    "model = Sequential()\n",
    "model.add(GRU(512, kernel_initializer=\"RandomUniform\", input_shape= (X_train.shape[1], 1), return_sequences = True,recurrent_dropout = 0.2))\n",
    "#model.add(CuDNNGRU(64, kernel_initializer=\"RandomUniform\", input_shape= (X_train.shape[1], 1)))\n",
    "model.add(BatchNormalization())\n",
    "#model.add(Dropout(0.2))\n",
    "model.add(GRU(256, recurrent_dropout = 0.3))\n",
    "#model.add(Dropout(0.2))\n",
    "model.add(Dense(64, activation=\"relu\"))\n",
    "#model.add(BatchNormalization())\n",
    "#model.add(Dropout(0.2))\n",
    "model.add(Dense(64, activation=\"relu\"))\n",
    "model.add(Dropout(0.20))\n",
    "# model.add(Flatten())\n",
    "model.add(Dense(1))\n"
   ]
  },
  {
   "cell_type": "code",
   "execution_count": 15,
   "metadata": {},
   "outputs": [
    {
     "name": "stdout",
     "output_type": "stream",
     "text": [
      "(3355, 11, 1)\n",
      "(3355, 1, 1)\n"
     ]
    }
   ],
   "source": [
    "# Reshaping for fit\n",
    "# X_train_array = np.reshape(X_train, (X_train.shape[0], 1, X_train.shape[1]))\n",
    "X_train_array = np.reshape(X_train, (X_train.shape[0], X_train.shape[1], 1))\n",
    "y_train_array = np.reshape(y_train, (y_train.shape[0], y_train.shape[1], 1))\n",
    "\n",
    "print(X_train_array.shape)\n",
    "print(y_train_array.shape)"
   ]
  },
  {
   "cell_type": "code",
   "execution_count": 16,
   "metadata": {},
   "outputs": [
    {
     "name": "stdout",
     "output_type": "stream",
     "text": [
      "Train on 2684 samples, validate on 671 samples\n",
      "Epoch 1/150\n",
      "2684/2684 [==============================] - 10s 4ms/step - loss: 4.0636 - mae: 4.0636 - mse: 26.9460 - val_loss: 4.4678 - val_mae: 4.4678 - val_mse: 32.2698\n",
      "Epoch 2/150\n",
      "2684/2684 [==============================] - 9s 3ms/step - loss: 2.9431 - mae: 2.9431 - mse: 13.8506 - val_loss: 3.5080 - val_mae: 3.5080 - val_mse: 20.8043\n",
      "Epoch 3/150\n",
      "2684/2684 [==============================] - 9s 3ms/step - loss: 2.8747 - mae: 2.8747 - mse: 12.8918 - val_loss: 3.1379 - val_mae: 3.1379 - val_mse: 16.0794\n",
      "Epoch 4/150\n",
      "2684/2684 [==============================] - 9s 3ms/step - loss: 2.8528 - mae: 2.8528 - mse: 12.8622 - val_loss: 3.0380 - val_mae: 3.0380 - val_mse: 14.6891\n",
      "Epoch 5/150\n",
      "2684/2684 [==============================] - 9s 3ms/step - loss: 2.8212 - mae: 2.8212 - mse: 12.6305 - val_loss: 2.9842 - val_mae: 2.9842 - val_mse: 13.7546\n",
      "Epoch 6/150\n",
      "2684/2684 [==============================] - 9s 3ms/step - loss: 2.8090 - mae: 2.8090 - mse: 12.5458 - val_loss: 2.9726 - val_mae: 2.9726 - val_mse: 13.5428\n",
      "Epoch 7/150\n",
      "2684/2684 [==============================] - 9s 3ms/step - loss: 2.8268 - mae: 2.8268 - mse: 12.5699 - val_loss: 2.9601 - val_mae: 2.9601 - val_mse: 13.3479\n",
      "Epoch 8/150\n",
      "2684/2684 [==============================] - 9s 3ms/step - loss: 2.8167 - mae: 2.8167 - mse: 12.6283 - val_loss: 2.9579 - val_mae: 2.9579 - val_mse: 13.4128\n",
      "Epoch 9/150\n",
      "2684/2684 [==============================] - 9s 3ms/step - loss: 2.8082 - mae: 2.8082 - mse: 12.5565 - val_loss: 2.9489 - val_mae: 2.9489 - val_mse: 13.2726\n",
      "Epoch 10/150\n",
      "2684/2684 [==============================] - 9s 3ms/step - loss: 2.7567 - mae: 2.7567 - mse: 12.1218 - val_loss: 2.9364 - val_mae: 2.9364 - val_mse: 13.1142\n",
      "Epoch 11/150\n",
      "2684/2684 [==============================] - 9s 3ms/step - loss: 2.7561 - mae: 2.7561 - mse: 12.1691 - val_loss: 2.9282 - val_mae: 2.9282 - val_mse: 13.0529\n",
      "Epoch 12/150\n",
      "2684/2684 [==============================] - 9s 3ms/step - loss: 2.7556 - mae: 2.7556 - mse: 12.1807 - val_loss: 2.9228 - val_mae: 2.9228 - val_mse: 12.9686\n",
      "Epoch 13/150\n",
      "2684/2684 [==============================] - 9s 3ms/step - loss: 2.7490 - mae: 2.7490 - mse: 12.0519 - val_loss: 2.9154 - val_mae: 2.9154 - val_mse: 12.9663\n",
      "Epoch 14/150\n",
      "2684/2684 [==============================] - 9s 3ms/step - loss: 2.7486 - mae: 2.7486 - mse: 12.0986 - val_loss: 2.9045 - val_mae: 2.9045 - val_mse: 12.8776\n",
      "Epoch 15/150\n",
      "2684/2684 [==============================] - 9s 3ms/step - loss: 2.7601 - mae: 2.7601 - mse: 12.2918 - val_loss: 2.8947 - val_mae: 2.8947 - val_mse: 12.7791\n",
      "Epoch 16/150\n",
      "2684/2684 [==============================] - 9s 3ms/step - loss: 2.7634 - mae: 2.7634 - mse: 12.1699 - val_loss: 2.8859 - val_mae: 2.8859 - val_mse: 12.6691\n",
      "Epoch 17/150\n",
      "2684/2684 [==============================] - 9s 3ms/step - loss: 2.7381 - mae: 2.7381 - mse: 11.9408 - val_loss: 2.8787 - val_mae: 2.8787 - val_mse: 12.6363\n",
      "Epoch 18/150\n",
      "2684/2684 [==============================] - 9s 3ms/step - loss: 2.7291 - mae: 2.7291 - mse: 12.0130 - val_loss: 2.8673 - val_mae: 2.8673 - val_mse: 12.5593\n",
      "Epoch 19/150\n",
      "2684/2684 [==============================] - 9s 3ms/step - loss: 2.7119 - mae: 2.7119 - mse: 11.8912 - val_loss: 2.8566 - val_mae: 2.8566 - val_mse: 12.5083\n",
      "Epoch 20/150\n",
      "2684/2684 [==============================] - 9s 3ms/step - loss: 2.7314 - mae: 2.7314 - mse: 11.9961 - val_loss: 2.8446 - val_mae: 2.8446 - val_mse: 12.4059\n",
      "Epoch 21/150\n",
      "2684/2684 [==============================] - 9s 3ms/step - loss: 2.7185 - mae: 2.7185 - mse: 11.7268 - val_loss: 2.8309 - val_mae: 2.8309 - val_mse: 12.2992\n",
      "Epoch 22/150\n",
      "2684/2684 [==============================] - 9s 3ms/step - loss: 2.6810 - mae: 2.6810 - mse: 11.5849 - val_loss: 2.8193 - val_mae: 2.8193 - val_mse: 12.2949\n",
      "Epoch 23/150\n",
      "2684/2684 [==============================] - 9s 3ms/step - loss: 2.6812 - mae: 2.6812 - mse: 11.5657 - val_loss: 2.8067 - val_mae: 2.8067 - val_mse: 12.1502\n",
      "Epoch 24/150\n",
      "2684/2684 [==============================] - 9s 3ms/step - loss: 2.6407 - mae: 2.6407 - mse: 11.2566 - val_loss: 2.7931 - val_mae: 2.7931 - val_mse: 12.1036\n",
      "Epoch 25/150\n",
      "2684/2684 [==============================] - 9s 3ms/step - loss: 2.6502 - mae: 2.6502 - mse: 11.3198 - val_loss: 2.7735 - val_mae: 2.7735 - val_mse: 11.9794\n",
      "Epoch 26/150\n",
      "2684/2684 [==============================] - 9s 3ms/step - loss: 2.6271 - mae: 2.6271 - mse: 11.2186 - val_loss: 2.7590 - val_mae: 2.7590 - val_mse: 11.9435\n",
      "Epoch 27/150\n",
      "2684/2684 [==============================] - 9s 3ms/step - loss: 2.6262 - mae: 2.6262 - mse: 11.0345 - val_loss: 2.7413 - val_mae: 2.7413 - val_mse: 11.8454\n",
      "Epoch 28/150\n",
      "2684/2684 [==============================] - 9s 3ms/step - loss: 2.6339 - mae: 2.6339 - mse: 11.2348 - val_loss: 2.7203 - val_mae: 2.7203 - val_mse: 11.8771\n",
      "Epoch 29/150\n",
      "2684/2684 [==============================] - 9s 3ms/step - loss: 2.5999 - mae: 2.5999 - mse: 10.9772 - val_loss: 2.6976 - val_mae: 2.6976 - val_mse: 11.6612\n",
      "Epoch 30/150\n",
      "2684/2684 [==============================] - 9s 3ms/step - loss: 2.5713 - mae: 2.5713 - mse: 10.8553 - val_loss: 2.6822 - val_mae: 2.6822 - val_mse: 11.6427\n",
      "Epoch 31/150\n",
      "2684/2684 [==============================] - 9s 3ms/step - loss: 2.6058 - mae: 2.6058 - mse: 11.0643 - val_loss: 2.6599 - val_mae: 2.6599 - val_mse: 11.5507\n",
      "Epoch 32/150\n",
      "2684/2684 [==============================] - 9s 3ms/step - loss: 2.5649 - mae: 2.5649 - mse: 10.7153 - val_loss: 2.6446 - val_mae: 2.6446 - val_mse: 11.5282\n",
      "Epoch 33/150\n",
      "2684/2684 [==============================] - 9s 3ms/step - loss: 2.5342 - mae: 2.5342 - mse: 10.6377 - val_loss: 2.6243 - val_mae: 2.6243 - val_mse: 11.4043\n",
      "Epoch 34/150\n",
      "2684/2684 [==============================] - 10s 4ms/step - loss: 2.5324 - mae: 2.5324 - mse: 10.6336 - val_loss: 2.6085 - val_mae: 2.6085 - val_mse: 11.3819\n",
      "Epoch 35/150\n",
      "2684/2684 [==============================] - 10s 4ms/step - loss: 2.5402 - mae: 2.5402 - mse: 10.6078 - val_loss: 2.6097 - val_mae: 2.6097 - val_mse: 11.5825\n",
      "Epoch 36/150\n",
      "2684/2684 [==============================] - 9s 3ms/step - loss: 2.5075 - mae: 2.5075 - mse: 10.3582 - val_loss: 2.5597 - val_mae: 2.5597 - val_mse: 11.1214\n",
      "Epoch 37/150\n",
      "2684/2684 [==============================] - 9s 3ms/step - loss: 2.4844 - mae: 2.4844 - mse: 10.2201 - val_loss: 2.5537 - val_mae: 2.5537 - val_mse: 11.1862\n",
      "Epoch 38/150\n",
      "2684/2684 [==============================] - 9s 3ms/step - loss: 2.5176 - mae: 2.5176 - mse: 10.3854 - val_loss: 2.5415 - val_mae: 2.5415 - val_mse: 11.1376\n",
      "Epoch 39/150\n",
      "2684/2684 [==============================] - 9s 3ms/step - loss: 2.4565 - mae: 2.4565 - mse: 10.0500 - val_loss: 2.5512 - val_mae: 2.5512 - val_mse: 11.3085\n",
      "Epoch 40/150\n",
      "2684/2684 [==============================] - 9s 3ms/step - loss: 2.4585 - mae: 2.4585 - mse: 9.9612 - val_loss: 2.5656 - val_mae: 2.5656 - val_mse: 11.5219\n",
      "Epoch 41/150\n",
      "2684/2684 [==============================] - 9s 3ms/step - loss: 2.4248 - mae: 2.4248 - mse: 9.7930 - val_loss: 2.5168 - val_mae: 2.5168 - val_mse: 11.1137\n",
      "Epoch 42/150\n",
      "2684/2684 [==============================] - 9s 3ms/step - loss: 2.4270 - mae: 2.4270 - mse: 9.6516 - val_loss: 2.5230 - val_mae: 2.5230 - val_mse: 11.2339\n",
      "Epoch 43/150\n",
      "2684/2684 [==============================] - 9s 3ms/step - loss: 2.4063 - mae: 2.4063 - mse: 9.7837 - val_loss: 2.4921 - val_mae: 2.4921 - val_mse: 11.0199\n",
      "Epoch 44/150\n",
      "2684/2684 [==============================] - 10s 4ms/step - loss: 2.3779 - mae: 2.3779 - mse: 9.4825 - val_loss: 2.5114 - val_mae: 2.5114 - val_mse: 11.2357\n",
      "Epoch 45/150\n",
      "2684/2684 [==============================] - 10s 4ms/step - loss: 2.3782 - mae: 2.3782 - mse: 9.3905 - val_loss: 2.4461 - val_mae: 2.4461 - val_mse: 10.7048\n",
      "Epoch 46/150\n",
      "2684/2684 [==============================] - 10s 4ms/step - loss: 2.3896 - mae: 2.3896 - mse: 9.5915 - val_loss: 2.4692 - val_mae: 2.4692 - val_mse: 10.9501\n",
      "Epoch 47/150\n",
      "2684/2684 [==============================] - 9s 4ms/step - loss: 2.3499 - mae: 2.3499 - mse: 9.2517 - val_loss: 2.4318 - val_mae: 2.4318 - val_mse: 10.6752\n",
      "Epoch 48/150\n",
      "2684/2684 [==============================] - 9s 3ms/step - loss: 2.3498 - mae: 2.3498 - mse: 9.2801 - val_loss: 2.4329 - val_mae: 2.4329 - val_mse: 10.7281\n"
     ]
    },
    {
     "name": "stdout",
     "output_type": "stream",
     "text": [
      "Epoch 49/150\n",
      "2684/2684 [==============================] - 9s 3ms/step - loss: 2.3179 - mae: 2.3179 - mse: 9.1327 - val_loss: 2.4473 - val_mae: 2.4473 - val_mse: 10.8809\n",
      "Epoch 50/150\n",
      "2684/2684 [==============================] - 9s 3ms/step - loss: 2.2816 - mae: 2.2816 - mse: 8.8137 - val_loss: 2.4475 - val_mae: 2.4475 - val_mse: 10.9014\n",
      "Epoch 51/150\n",
      "2684/2684 [==============================] - 10s 4ms/step - loss: 2.3132 - mae: 2.3132 - mse: 9.0885 - val_loss: 2.5249 - val_mae: 2.5249 - val_mse: 11.5280\n",
      "Epoch 52/150\n",
      "2684/2684 [==============================] - 10s 4ms/step - loss: 2.3026 - mae: 2.3026 - mse: 8.9704 - val_loss: 2.4727 - val_mae: 2.4727 - val_mse: 11.1315\n",
      "Epoch 53/150\n",
      "2684/2684 [==============================] - 10s 4ms/step - loss: 2.2916 - mae: 2.2916 - mse: 8.8969 - val_loss: 2.4851 - val_mae: 2.4851 - val_mse: 11.2366\n",
      "Epoch 54/150\n",
      "2684/2684 [==============================] - 9s 3ms/step - loss: 2.2791 - mae: 2.2791 - mse: 8.9023 - val_loss: 2.5409 - val_mae: 2.5409 - val_mse: 11.6888\n",
      "Epoch 55/150\n",
      "2684/2684 [==============================] - 9s 3ms/step - loss: 2.2630 - mae: 2.2630 - mse: 8.6695 - val_loss: 2.5136 - val_mae: 2.5136 - val_mse: 11.4889\n",
      "Epoch 56/150\n",
      "2684/2684 [==============================] - 9s 3ms/step - loss: 2.2691 - mae: 2.2691 - mse: 8.7326 - val_loss: 2.5019 - val_mae: 2.5019 - val_mse: 11.3989\n",
      "Epoch 57/150\n",
      "2684/2684 [==============================] - 9s 3ms/step - loss: 2.2789 - mae: 2.2789 - mse: 8.8307 - val_loss: 2.4558 - val_mae: 2.4558 - val_mse: 11.0518\n",
      "Epoch 58/150\n",
      "2684/2684 [==============================] - 9s 3ms/step - loss: 2.2387 - mae: 2.2387 - mse: 8.6577 - val_loss: 2.5252 - val_mae: 2.5252 - val_mse: 11.5992\n",
      "Epoch 59/150\n",
      "2684/2684 [==============================] - 9s 3ms/step - loss: 2.2495 - mae: 2.2495 - mse: 8.6348 - val_loss: 2.4925 - val_mae: 2.4925 - val_mse: 11.3596\n",
      "Epoch 60/150\n",
      "2684/2684 [==============================] - 9s 3ms/step - loss: 2.2308 - mae: 2.2308 - mse: 8.5719 - val_loss: 2.4776 - val_mae: 2.4776 - val_mse: 11.2586\n",
      "Epoch 61/150\n",
      "2684/2684 [==============================] - 9s 3ms/step - loss: 2.2699 - mae: 2.2699 - mse: 8.6984 - val_loss: 2.4606 - val_mae: 2.4606 - val_mse: 11.1325\n",
      "Epoch 62/150\n",
      "2684/2684 [==============================] - 9s 3ms/step - loss: 2.2495 - mae: 2.2495 - mse: 8.7634 - val_loss: 2.4504 - val_mae: 2.4504 - val_mse: 11.0622\n",
      "Epoch 63/150\n",
      "2684/2684 [==============================] - 9s 3ms/step - loss: 2.2548 - mae: 2.2548 - mse: 8.7810 - val_loss: 2.5079 - val_mae: 2.5079 - val_mse: 11.5170\n",
      "Epoch 64/150\n",
      "2684/2684 [==============================] - 9s 3ms/step - loss: 2.2385 - mae: 2.2385 - mse: 8.7097 - val_loss: 2.4357 - val_mae: 2.4357 - val_mse: 10.9662\n",
      "Epoch 65/150\n",
      "2684/2684 [==============================] - 9s 3ms/step - loss: 2.2520 - mae: 2.2520 - mse: 8.6574 - val_loss: 2.4716 - val_mae: 2.4716 - val_mse: 11.2626\n",
      "Epoch 66/150\n",
      "2684/2684 [==============================] - 9s 3ms/step - loss: 2.2108 - mae: 2.2108 - mse: 8.4620 - val_loss: 2.4370 - val_mae: 2.4370 - val_mse: 10.9900\n",
      "Epoch 67/150\n",
      "2684/2684 [==============================] - 9s 3ms/step - loss: 2.2171 - mae: 2.2171 - mse: 8.4973 - val_loss: 2.4623 - val_mae: 2.4623 - val_mse: 11.1908\n",
      "Epoch 68/150\n",
      "2684/2684 [==============================] - 9s 3ms/step - loss: 2.2180 - mae: 2.2180 - mse: 8.5607 - val_loss: 2.4523 - val_mae: 2.4523 - val_mse: 11.1187\n",
      "Epoch 69/150\n",
      "2684/2684 [==============================] - 9s 3ms/step - loss: 2.2494 - mae: 2.2494 - mse: 8.7032 - val_loss: 2.4815 - val_mae: 2.4815 - val_mse: 11.3577\n",
      "Epoch 70/150\n",
      "2684/2684 [==============================] - 9s 3ms/step - loss: 2.2072 - mae: 2.2072 - mse: 8.3981 - val_loss: 2.3857 - val_mae: 2.3857 - val_mse: 10.5933\n",
      "Epoch 71/150\n",
      "2684/2684 [==============================] - 9s 3ms/step - loss: 2.2181 - mae: 2.2181 - mse: 8.4228 - val_loss: 2.4296 - val_mae: 2.4296 - val_mse: 10.9525\n",
      "Epoch 72/150\n",
      "2684/2684 [==============================] - 9s 3ms/step - loss: 2.2148 - mae: 2.2148 - mse: 8.3150 - val_loss: 2.3776 - val_mae: 2.3776 - val_mse: 10.5373\n",
      "Epoch 73/150\n",
      "2684/2684 [==============================] - 9s 3ms/step - loss: 2.2164 - mae: 2.2164 - mse: 8.5637 - val_loss: 2.3871 - val_mae: 2.3871 - val_mse: 10.6194\n",
      "Epoch 74/150\n",
      "2684/2684 [==============================] - 9s 3ms/step - loss: 2.2100 - mae: 2.2100 - mse: 8.5292 - val_loss: 2.4141 - val_mae: 2.4141 - val_mse: 10.8329\n",
      "Epoch 75/150\n",
      "2684/2684 [==============================] - 9s 3ms/step - loss: 2.1858 - mae: 2.1858 - mse: 8.2831 - val_loss: 2.3905 - val_mae: 2.3905 - val_mse: 10.6427\n",
      "Epoch 76/150\n",
      "2684/2684 [==============================] - 9s 3ms/step - loss: 2.2145 - mae: 2.2145 - mse: 8.5762 - val_loss: 2.4374 - val_mae: 2.4374 - val_mse: 11.0151\n",
      "Epoch 77/150\n",
      "2684/2684 [==============================] - 9s 4ms/step - loss: 2.2069 - mae: 2.2069 - mse: 8.4438 - val_loss: 2.3881 - val_mae: 2.3881 - val_mse: 10.6274\n",
      "Epoch 78/150\n",
      "2684/2684 [==============================] - 9s 3ms/step - loss: 2.2130 - mae: 2.2130 - mse: 8.5017 - val_loss: 2.4128 - val_mae: 2.4128 - val_mse: 10.8236\n",
      "Epoch 79/150\n",
      "2684/2684 [==============================] - 9s 3ms/step - loss: 2.2017 - mae: 2.2017 - mse: 8.3980 - val_loss: 2.3940 - val_mae: 2.3940 - val_mse: 10.6792\n",
      "Epoch 80/150\n",
      "2684/2684 [==============================] - 9s 3ms/step - loss: 2.2015 - mae: 2.2015 - mse: 8.3584 - val_loss: 2.3594 - val_mae: 2.3594 - val_mse: 10.4023\n",
      "Epoch 81/150\n",
      "2684/2684 [==============================] - 9s 3ms/step - loss: 2.2120 - mae: 2.2120 - mse: 8.4439 - val_loss: 2.3632 - val_mae: 2.3632 - val_mse: 10.4355\n",
      "Epoch 82/150\n",
      "2684/2684 [==============================] - 9s 3ms/step - loss: 2.1695 - mae: 2.1695 - mse: 8.1793 - val_loss: 2.3786 - val_mae: 2.3786 - val_mse: 10.5641\n",
      "Epoch 83/150\n",
      "2684/2684 [==============================] - 9s 3ms/step - loss: 2.1994 - mae: 2.1994 - mse: 8.3781 - val_loss: 2.3725 - val_mae: 2.3725 - val_mse: 10.5153\n",
      "Epoch 84/150\n",
      "2684/2684 [==============================] - 9s 3ms/step - loss: 2.2093 - mae: 2.2093 - mse: 8.4525 - val_loss: 2.3797 - val_mae: 2.3797 - val_mse: 10.5740\n",
      "Epoch 85/150\n",
      "2684/2684 [==============================] - 9s 3ms/step - loss: 2.2087 - mae: 2.2087 - mse: 8.4756 - val_loss: 2.3875 - val_mae: 2.3875 - val_mse: 10.6394\n",
      "Epoch 86/150\n",
      "2684/2684 [==============================] - 9s 3ms/step - loss: 2.1921 - mae: 2.1921 - mse: 8.3438 - val_loss: 2.3498 - val_mae: 2.3498 - val_mse: 10.3364\n",
      "Epoch 87/150\n",
      "2684/2684 [==============================] - 9s 3ms/step - loss: 2.2039 - mae: 2.2039 - mse: 8.4791 - val_loss: 2.3940 - val_mae: 2.3940 - val_mse: 10.6903\n",
      "Epoch 88/150\n",
      "2684/2684 [==============================] - 9s 3ms/step - loss: 2.1847 - mae: 2.1847 - mse: 8.3517 - val_loss: 2.3694 - val_mae: 2.3694 - val_mse: 10.4901\n",
      "Epoch 89/150\n",
      "2684/2684 [==============================] - 9s 3ms/step - loss: 2.2144 - mae: 2.2144 - mse: 8.4553 - val_loss: 2.3529 - val_mae: 2.3529 - val_mse: 10.3571\n",
      "Epoch 90/150\n",
      "2684/2684 [==============================] - 9s 3ms/step - loss: 2.2018 - mae: 2.2018 - mse: 8.3910 - val_loss: 2.3835 - val_mae: 2.3835 - val_mse: 10.6033\n",
      "Epoch 91/150\n",
      "2684/2684 [==============================] - 9s 3ms/step - loss: 2.2052 - mae: 2.2052 - mse: 8.4782 - val_loss: 2.3888 - val_mae: 2.3888 - val_mse: 10.6474\n",
      "Epoch 92/150\n",
      "2684/2684 [==============================] - 9s 3ms/step - loss: 2.1723 - mae: 2.1723 - mse: 8.3180 - val_loss: 2.3726 - val_mae: 2.3726 - val_mse: 10.5208\n",
      "Epoch 93/150\n",
      "2684/2684 [==============================] - 9s 3ms/step - loss: 2.1804 - mae: 2.1804 - mse: 8.3349 - val_loss: 2.3590 - val_mae: 2.3590 - val_mse: 10.4128\n",
      "Epoch 94/150\n",
      "2684/2684 [==============================] - 9s 3ms/step - loss: 2.2003 - mae: 2.2003 - mse: 8.3414 - val_loss: 2.3629 - val_mae: 2.3629 - val_mse: 10.4424\n",
      "Epoch 95/150\n",
      "2684/2684 [==============================] - 9s 3ms/step - loss: 2.2050 - mae: 2.2050 - mse: 8.4025 - val_loss: 2.3619 - val_mae: 2.3619 - val_mse: 10.4364\n",
      "Epoch 96/150\n",
      "2684/2684 [==============================] - 9s 3ms/step - loss: 2.1856 - mae: 2.1857 - mse: 8.3369 - val_loss: 2.3730 - val_mae: 2.3730 - val_mse: 10.5227\n",
      "Epoch 97/150\n"
     ]
    },
    {
     "name": "stdout",
     "output_type": "stream",
     "text": [
      "2684/2684 [==============================] - 9s 3ms/step - loss: 2.1907 - mae: 2.1907 - mse: 8.2560 - val_loss: 2.3677 - val_mae: 2.3677 - val_mse: 10.4787\n",
      "Epoch 98/150\n",
      "2684/2684 [==============================] - 9s 3ms/step - loss: 2.2129 - mae: 2.2129 - mse: 8.4496 - val_loss: 2.3751 - val_mae: 2.3751 - val_mse: 10.5411\n",
      "Epoch 99/150\n",
      "2684/2684 [==============================] - 9s 3ms/step - loss: 2.1694 - mae: 2.1694 - mse: 8.2094 - val_loss: 2.3598 - val_mae: 2.3598 - val_mse: 10.4156\n",
      "Epoch 100/150\n",
      "2684/2684 [==============================] - 9s 3ms/step - loss: 2.1776 - mae: 2.1776 - mse: 8.1671 - val_loss: 2.3704 - val_mae: 2.3704 - val_mse: 10.5030\n",
      "Epoch 101/150\n",
      "2684/2684 [==============================] - 9s 3ms/step - loss: 2.1858 - mae: 2.1858 - mse: 8.2363 - val_loss: 2.3332 - val_mae: 2.3332 - val_mse: 10.2037\n",
      "Epoch 102/150\n",
      "2684/2684 [==============================] - 9s 3ms/step - loss: 2.1869 - mae: 2.1869 - mse: 8.2699 - val_loss: 2.3388 - val_mae: 2.3388 - val_mse: 10.2442\n",
      "Epoch 103/150\n",
      "2684/2684 [==============================] - 9s 3ms/step - loss: 2.1824 - mae: 2.1824 - mse: 8.2229 - val_loss: 2.3680 - val_mae: 2.3680 - val_mse: 10.4833\n",
      "Epoch 104/150\n",
      "2684/2684 [==============================] - 9s 4ms/step - loss: 2.1924 - mae: 2.1924 - mse: 8.3078 - val_loss: 2.3556 - val_mae: 2.3556 - val_mse: 10.3815\n",
      "Epoch 105/150\n",
      "2684/2684 [==============================] - 9s 3ms/step - loss: 2.1782 - mae: 2.1782 - mse: 8.2243 - val_loss: 2.3560 - val_mae: 2.3560 - val_mse: 10.3839\n",
      "Epoch 106/150\n",
      "2684/2684 [==============================] - 9s 3ms/step - loss: 2.1944 - mae: 2.1944 - mse: 8.2562 - val_loss: 2.3719 - val_mae: 2.3719 - val_mse: 10.5098\n",
      "Epoch 107/150\n",
      "2684/2684 [==============================] - 9s 3ms/step - loss: 2.1886 - mae: 2.1886 - mse: 8.3835 - val_loss: 2.3865 - val_mae: 2.3865 - val_mse: 10.6292\n",
      "Epoch 108/150\n",
      "2684/2684 [==============================] - 9s 3ms/step - loss: 2.1710 - mae: 2.1710 - mse: 8.2353 - val_loss: 2.3663 - val_mae: 2.3663 - val_mse: 10.4667\n",
      "Epoch 109/150\n",
      "2684/2684 [==============================] - 9s 3ms/step - loss: 2.1961 - mae: 2.1961 - mse: 8.3146 - val_loss: 2.3452 - val_mae: 2.3452 - val_mse: 10.2965\n",
      "Epoch 110/150\n",
      "2684/2684 [==============================] - 9s 4ms/step - loss: 2.1917 - mae: 2.1917 - mse: 8.3757 - val_loss: 2.3274 - val_mae: 2.3274 - val_mse: 10.1473\n",
      "Epoch 111/150\n",
      "2684/2684 [==============================] - 9s 4ms/step - loss: 2.1926 - mae: 2.1926 - mse: 8.2424 - val_loss: 2.3141 - val_mae: 2.3141 - val_mse: 10.0334\n",
      "Epoch 112/150\n",
      "2684/2684 [==============================] - 9s 3ms/step - loss: 2.1774 - mae: 2.1774 - mse: 8.3289 - val_loss: 2.3480 - val_mae: 2.3480 - val_mse: 10.3198\n",
      "Epoch 113/150\n",
      "2684/2684 [==============================] - 9s 3ms/step - loss: 2.2064 - mae: 2.2064 - mse: 8.3521 - val_loss: 2.3757 - val_mae: 2.3757 - val_mse: 10.5360\n",
      "Epoch 114/150\n",
      "2684/2684 [==============================] - 10s 4ms/step - loss: 2.2154 - mae: 2.2154 - mse: 8.4009 - val_loss: 2.3543 - val_mae: 2.3543 - val_mse: 10.3649\n",
      "Epoch 115/150\n",
      "2684/2684 [==============================] - 10s 4ms/step - loss: 2.1783 - mae: 2.1783 - mse: 8.2588 - val_loss: 2.3694 - val_mae: 2.3694 - val_mse: 10.4891\n",
      "Epoch 116/150\n",
      "2684/2684 [==============================] - 10s 4ms/step - loss: 2.1875 - mae: 2.1875 - mse: 8.2780 - val_loss: 2.3339 - val_mae: 2.3339 - val_mse: 10.2044\n",
      "Epoch 117/150\n",
      "2684/2684 [==============================] - 9s 3ms/step - loss: 2.1779 - mae: 2.1779 - mse: 8.2744 - val_loss: 2.3186 - val_mae: 2.3186 - val_mse: 10.0737\n",
      "Epoch 118/150\n",
      "2684/2684 [==============================] - 9s 3ms/step - loss: 2.1714 - mae: 2.1714 - mse: 8.2366 - val_loss: 2.3804 - val_mae: 2.3804 - val_mse: 10.5848\n",
      "Epoch 119/150\n",
      "2684/2684 [==============================] - 9s 3ms/step - loss: 2.1539 - mae: 2.1539 - mse: 8.0740 - val_loss: 2.2860 - val_mae: 2.2860 - val_mse: 9.7833\n",
      "Epoch 120/150\n",
      "2684/2684 [==============================] - 9s 3ms/step - loss: 2.1663 - mae: 2.1663 - mse: 8.2071 - val_loss: 2.3379 - val_mae: 2.3379 - val_mse: 10.2409\n",
      "Epoch 121/150\n",
      "2684/2684 [==============================] - 9s 3ms/step - loss: 2.1761 - mae: 2.1761 - mse: 8.3333 - val_loss: 2.3462 - val_mae: 2.3462 - val_mse: 10.3036\n",
      "Epoch 122/150\n",
      "2684/2684 [==============================] - 9s 3ms/step - loss: 2.1802 - mae: 2.1802 - mse: 8.3145 - val_loss: 2.3364 - val_mae: 2.3364 - val_mse: 10.2200\n",
      "Epoch 123/150\n",
      "2684/2684 [==============================] - 9s 3ms/step - loss: 2.1967 - mae: 2.1967 - mse: 8.2486 - val_loss: 2.3610 - val_mae: 2.3610 - val_mse: 10.4197\n",
      "Epoch 124/150\n",
      "2684/2684 [==============================] - 10s 4ms/step - loss: 2.1682 - mae: 2.1682 - mse: 8.1013 - val_loss: 2.3745 - val_mae: 2.3745 - val_mse: 10.5331\n",
      "Epoch 125/150\n",
      "2684/2684 [==============================] - 9s 3ms/step - loss: 2.1937 - mae: 2.1937 - mse: 8.4188 - val_loss: 2.3552 - val_mae: 2.3552 - val_mse: 10.3796\n",
      "Epoch 126/150\n",
      "2684/2684 [==============================] - 10s 4ms/step - loss: 2.1934 - mae: 2.1934 - mse: 8.4058 - val_loss: 2.3205 - val_mae: 2.3205 - val_mse: 10.0874\n",
      "Epoch 127/150\n",
      "2684/2684 [==============================] - 11s 4ms/step - loss: 2.1494 - mae: 2.1494 - mse: 8.1300 - val_loss: 2.3192 - val_mae: 2.3192 - val_mse: 10.0711\n",
      "Epoch 128/150\n",
      "2684/2684 [==============================] - 11s 4ms/step - loss: 2.1821 - mae: 2.1821 - mse: 8.1981 - val_loss: 2.3184 - val_mae: 2.3184 - val_mse: 10.0567\n",
      "Epoch 129/150\n",
      "2684/2684 [==============================] - 10s 4ms/step - loss: 2.1742 - mae: 2.1742 - mse: 8.2707 - val_loss: 2.3104 - val_mae: 2.3104 - val_mse: 9.9885\n",
      "Epoch 130/150\n",
      "2684/2684 [==============================] - 10s 4ms/step - loss: 2.1768 - mae: 2.1768 - mse: 8.2530 - val_loss: 2.2910 - val_mae: 2.2910 - val_mse: 9.8168\n",
      "Epoch 131/150\n",
      "2684/2684 [==============================] - 10s 4ms/step - loss: 2.1694 - mae: 2.1694 - mse: 8.1305 - val_loss: 2.2900 - val_mae: 2.2900 - val_mse: 9.8102\n",
      "Epoch 132/150\n",
      "2684/2684 [==============================] - 9s 4ms/step - loss: 2.1687 - mae: 2.1687 - mse: 8.1407 - val_loss: 2.3354 - val_mae: 2.3354 - val_mse: 10.2159\n",
      "Epoch 133/150\n",
      "2684/2684 [==============================] - 9s 3ms/step - loss: 2.1589 - mae: 2.1589 - mse: 8.1731 - val_loss: 2.2830 - val_mae: 2.2830 - val_mse: 9.7442\n",
      "Epoch 134/150\n",
      "2684/2684 [==============================] - 9s 3ms/step - loss: 2.1776 - mae: 2.1776 - mse: 8.2402 - val_loss: 2.3172 - val_mae: 2.3172 - val_mse: 10.0480\n",
      "Epoch 135/150\n",
      "2684/2684 [==============================] - 9s 3ms/step - loss: 2.1800 - mae: 2.1800 - mse: 8.1566 - val_loss: 2.2723 - val_mae: 2.2723 - val_mse: 9.6417\n",
      "Epoch 136/150\n",
      "2684/2684 [==============================] - 9s 3ms/step - loss: 2.1787 - mae: 2.1787 - mse: 8.2408 - val_loss: 2.2685 - val_mae: 2.2685 - val_mse: 9.6036\n",
      "Epoch 137/150\n",
      "2684/2684 [==============================] - 9s 3ms/step - loss: 2.1867 - mae: 2.1867 - mse: 8.2705 - val_loss: 2.3099 - val_mae: 2.3098 - val_mse: 9.9811\n",
      "Epoch 138/150\n",
      "2684/2684 [==============================] - 9s 3ms/step - loss: 2.1787 - mae: 2.1787 - mse: 8.2403 - val_loss: 2.2878 - val_mae: 2.2878 - val_mse: 9.7808\n",
      "Epoch 139/150\n",
      "2684/2684 [==============================] - 9s 3ms/step - loss: 2.1908 - mae: 2.1908 - mse: 8.2822 - val_loss: 2.3323 - val_mae: 2.3323 - val_mse: 10.1781\n",
      "Epoch 140/150\n",
      "2684/2684 [==============================] - 9s 3ms/step - loss: 2.1833 - mae: 2.1833 - mse: 8.2248 - val_loss: 2.3008 - val_mae: 2.3008 - val_mse: 9.8948\n",
      "Epoch 141/150\n",
      "2684/2684 [==============================] - 10s 4ms/step - loss: 2.1815 - mae: 2.1815 - mse: 8.2587 - val_loss: 2.2985 - val_mae: 2.2985 - val_mse: 9.8769\n",
      "Epoch 142/150\n",
      "2684/2684 [==============================] - 10s 4ms/step - loss: 2.1710 - mae: 2.1710 - mse: 8.2531 - val_loss: 2.2768 - val_mae: 2.2768 - val_mse: 9.6817\n",
      "Epoch 143/150\n",
      "2684/2684 [==============================] - 9s 3ms/step - loss: 2.1627 - mae: 2.1627 - mse: 8.2339 - val_loss: 2.3290 - val_mae: 2.3290 - val_mse: 10.1460\n",
      "Epoch 144/150\n",
      "2684/2684 [==============================] - 9s 3ms/step - loss: 2.1890 - mae: 2.1890 - mse: 8.2169 - val_loss: 2.3087 - val_mae: 2.3087 - val_mse: 9.9624\n",
      "Epoch 145/150\n"
     ]
    },
    {
     "name": "stdout",
     "output_type": "stream",
     "text": [
      "2684/2684 [==============================] - 9s 3ms/step - loss: 2.1714 - mae: 2.1714 - mse: 8.2261 - val_loss: 2.3348 - val_mae: 2.3348 - val_mse: 10.1915\n",
      "Epoch 146/150\n",
      "2684/2684 [==============================] - 9s 3ms/step - loss: 2.1681 - mae: 2.1681 - mse: 8.2013 - val_loss: 2.2668 - val_mae: 2.2668 - val_mse: 9.5831\n",
      "Epoch 147/150\n",
      "2684/2684 [==============================] - 9s 3ms/step - loss: 2.1552 - mae: 2.1552 - mse: 8.0555 - val_loss: 2.2980 - val_mae: 2.2980 - val_mse: 9.8727\n",
      "Epoch 148/150\n",
      "2684/2684 [==============================] - 9s 3ms/step - loss: 2.1622 - mae: 2.1622 - mse: 8.1672 - val_loss: 2.3276 - val_mae: 2.3276 - val_mse: 10.1335\n",
      "Epoch 149/150\n",
      "2684/2684 [==============================] - 9s 3ms/step - loss: 2.1758 - mae: 2.1758 - mse: 8.2370 - val_loss: 2.2955 - val_mae: 2.2955 - val_mse: 9.8471\n",
      "Epoch 150/150\n",
      "2684/2684 [==============================] - 10s 4ms/step - loss: 2.1775 - mae: 2.1775 - mse: 8.3204 - val_loss: 2.3167 - val_mae: 2.3167 - val_mse: 10.0351\n"
     ]
    }
   ],
   "source": [
    "# model.compile(loss=\"mean_squared_error\", optimizer=\"rmsprop\", metrics=[\"mse\"])\n",
    "opt = keras.optimizers.Adam(learning_rate=1e-5)\n",
    "model.compile(loss=\"mean_absolute_error\", optimizer=opt, metrics=[\"mae\", \"mse\"])\n",
    "#model.summary()\n",
    "\n",
    "build = model.fit(X_train_array, y_train, epochs=150, batch_size=30, validation_split = 0.20, verbose=1, shuffle = False)"
   ]
  },
  {
   "cell_type": "code",
   "execution_count": 18,
   "metadata": {},
   "outputs": [
    {
     "name": "stdout",
     "output_type": "stream",
     "text": [
      "dict_keys(['val_loss', 'val_mae', 'val_mse', 'loss', 'mae', 'mse'])\n"
     ]
    },
    {
     "data": {
      "image/png": "[encoded data removed]",
      "text/plain": [
       "<Figure size 432x288 with 1 Axes>"
      ]
     },
     "metadata": {
      "needs_background": "light"
     },
     "output_type": "display_data"
    },
    {
     "data": {
      "image/png": "[encoded data removed]",
      "text/plain": [
       "<Figure size 432x288 with 1 Axes>"
      ]
     },
     "metadata": {
      "needs_background": "light"
     },
     "output_type": "display_data"
    }
   ],
   "source": [
    "import matplotlib.pyplot as plt\n",
    "# list all data in history\n",
    "print(build.history.keys())\n",
    "# summarize history for accuracy\n",
    "plt.plot(build.history['mae'])\n",
    "plt.plot(build.history['val_mae'])\n",
    "plt.title('model MAE')\n",
    "plt.ylabel('accuracy')\n",
    "plt.xlabel('epoch')\n",
    "plt.legend(['train', 'test'], loc='upper left')\n",
    "plt.show()\n",
    "# summarize history for loss\n",
    "plt.plot(build.history['loss'])\n",
    "plt.plot(build.history['val_loss'])\n",
    "plt.title('model loss')\n",
    "plt.ylabel('loss')\n",
    "plt.xlabel('epoch')\n",
    "plt.legend(['train', 'test'], loc='upper left')\n",
    "plt.show()"
   ]
  },
  {
   "cell_type": "code",
   "execution_count": 24,
   "metadata": {},
   "outputs": [
    {
     "name": "stdout",
     "output_type": "stream",
     "text": [
      "Saved model to disk\n"
     ]
    }
   ],
   "source": [
    "model.save(\"model-GRU-single.h5\")\n",
    "print(\"Saved model to disk\")"
   ]
  },
  {
   "cell_type": "code",
   "execution_count": 22,
   "metadata": {},
   "outputs": [
    {
     "name": "stderr",
     "output_type": "stream",
     "text": [
      "100%|██████████| 2624/2624 [00:50<00:00, 51.95it/s]\n"
     ]
    }
   ],
   "source": [
    "submission = pd.read_csv(\"../data/sample_submission.csv\", index_col='seg_id', dtype={\"time_to_failure\": np.float32})\n",
    "X_sub = pd.DataFrame(columns=X_data.columns, dtype=np.float32)\n",
    "\n",
    "for i, seg_id in enumerate(tqdm(submission.index)):\n",
    "    seg = pd.read_csv('../data/test/' + str(seg_id) + '.csv')\n",
    "    X_seg = create_features(seg, X_sub, i)"
   ]
  },
  {
   "cell_type": "code",
   "execution_count": 23,
   "metadata": {},
   "outputs": [],
   "source": [
    "X_seg_array = np.reshape(X_seg.values, (X_seg.shape[0], X_seg.shape[1], 1))\n",
    "pred_final = model.predict(X_seg_array)\n",
    "submission['time_to_failure'] = pred_final\n",
    "\n",
    "submission.to_csv('submission-GRU-single.csv')"
   ]
  },
  {
   "cell_type": "code",
   "execution_count": 27,
   "metadata": {},
   "outputs": [
    {
     "name": "stdout",
     "output_type": "stream",
     "text": [
      "            time_to_failure\n",
      "seg_id                     \n",
      "seg_004314         0.660166\n",
      "seg_20cc25         0.978260\n",
      "seg_26a2a0         0.377912\n",
      "seg_272a47         0.878321\n",
      "seg_2f86cd         0.510108\n",
      "seg_376908         0.872885\n",
      "seg_39ad50         0.617726\n",
      "seg_3e87b4         0.713263\n",
      "seg_5311d1         0.931226\n",
      "seg_724df9         0.367125\n",
      "seg_7848f8         0.443548\n",
      "seg_7a9f2b         0.411190\n",
      "seg_7fa6ec         0.386437\n",
      "seg_8be76c         0.824842\n",
      "seg_90b174         0.884478\n",
      "seg_919a6a         0.975649\n",
      "seg_957ece         0.728189\n",
      "seg_aa98cc         0.397465\n",
      "seg_b35174         0.379416\n",
      "seg_b686e5         0.663701\n",
      "seg_bfdd14         0.701796\n",
      "seg_c243a6         0.740814\n",
      "seg_c5dee4         0.742274\n",
      "seg_c80857         0.382651\n",
      "seg_c94941         0.784773\n",
      "seg_c9831a         0.909643\n",
      "seg_e3d751         0.320170\n",
      "seg_f43ab6         0.857341\n",
      "seg_fdd50e         0.884366\n",
      "<class 'pandas.core.frame.DataFrame'>\n",
      "Index(['time_to_failure'], dtype='object')\n",
      "seg_26a2a0\n"
     ]
    },
    {
     "data": {
      "image/png": "[encoded data removed]",
      "text/plain": [
       "<Figure size 576x288 with 1 Axes>"
      ]
     },
     "metadata": {
      "needs_background": "light"
     },
     "output_type": "display_data"
    }
   ],
   "source": [
    "possible_eq = submission.loc[submission[\"time_to_failure\"] < 1.0]\n",
    "print(possible_eq)\n",
    "print(type(possible_eq))\n",
    "print(possible_eq.columns)\n",
    "segments = [\"seg_26a2a0\"]\n",
    "for seg_id in segments:\n",
    "    print(seg_id)\n",
    "    seg = pd.read_csv('../data/test/' + seg_id + '.csv')\n",
    "    fig, ax1 = plt.subplots(figsize=(8, 4))\n",
    "    plt.title(\"Trends of acoustic_data for test file {}\".format(seg_id))\n",
    "    plt.plot(seg['acoustic_data'].values, color='b')\n",
    "    ax1.set_ylabel('acoustic_data', color='b')\n",
    "    plt.legend(['acoustic_data'])"
   ]
  },
  {
   "cell_type": "code",
   "execution_count": 35,
   "metadata": {},
   "outputs": [
    {
     "ename": "ModuleNotFoundError",
     "evalue": "No module named 'dill'",
     "output_type": "error",
     "traceback": [
      "\u001b[1;31m---------------------------------------------------------------------------\u001b[0m",
      "\u001b[1;31mModuleNotFoundError\u001b[0m                       Traceback (most recent call last)",
      "\u001b[1;32m<ipython-input-35-0d291198e13b>\u001b[0m in \u001b[0;36m<module>\u001b[1;34m\u001b[0m\n\u001b[1;32m----> 1\u001b[1;33m \u001b[1;32mimport\u001b[0m \u001b[0mdill\u001b[0m\u001b[1;33m\u001b[0m\u001b[1;33m\u001b[0m\u001b[0m\n\u001b[0m\u001b[0;32m      2\u001b[0m \u001b[1;31m#dill.dump_session('notebook_env.db')\u001b[0m\u001b[1;33m\u001b[0m\u001b[1;33m\u001b[0m\u001b[1;33m\u001b[0m\u001b[0m\n",
      "\u001b[1;31mModuleNotFoundError\u001b[0m: No module named 'dill'"
     ]
    }
   ],
   "source": [
    "import dill\n",
    "#dill.dump_session('notebook_env.db')\n"
   ]
  },
  {
   "cell_type": "code",
   "execution_count": null,
   "metadata": {},
   "outputs": [],
   "source": []
  }
 ],
 "metadata": {
  "kernelspec": {
   "display_name": "Python 3",
   "language": "python",
   "name": "python3"
  },
  "language_info": {
   "codemirror_mode": {
    "name": "ipython",
    "version": 3
   },
   "file_extension": ".py",
   "mimetype": "text/x-python",
   "name": "python",
   "nbconvert_exporter": "python",
   "pygments_lexer": "ipython3",
   "version": "3.7.4"
  }
 },
 "nbformat": 4,
 "nbformat_minor": 4
}
